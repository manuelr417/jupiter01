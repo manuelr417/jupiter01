{
 "cells": [
  {
   "cell_type": "code",
   "execution_count": 4,
   "metadata": {},
   "outputs": [
    {
     "name": "stdout",
     "output_type": "stream",
     "text": [
      "Hello\n",
      "Cabrones\n",
      "Vector:  [4. 4. 4.]\n",
      "Vector:  [4. 4. 4. 4. 4.]\n"
     ]
    }
   ],
   "source": [
    "import tester as ts\n",
    "\n",
    "print(\"Hello\")\n",
    "vect = ts.testlocalfunction2(3, 4)\n",
    "print(\"Vector: \", vect)\n",
    "vect = ts.testlocalfunction2(5, 10)\n",
    "print(\"Vector: \", vect)"
   ]
  },
  {
   "cell_type": "code",
   "execution_count": null,
   "outputs": [],
   "source": [],
   "metadata": {
    "collapsed": false,
    "pycharm": {
     "name": "#%%\n"
    }
   }
  },
  {
   "cell_type": "code",
   "execution_count": null,
   "metadata": {},
   "outputs": [],
   "source": []
  }
 ],
 "metadata": {
  "kernelspec": {
   "display_name": "Python 3",
   "language": "python",
   "name": "python3"
  },
  "language_info": {
   "codemirror_mode": {
    "name": "ipython",
    "version": 3
   },
   "file_extension": ".py",
   "mimetype": "text/x-python",
   "name": "python",
   "nbconvert_exporter": "python",
   "pygments_lexer": "ipython3",
   "version": "3.7.9"
  }
 },
 "nbformat": 4,
 "nbformat_minor": 1
}